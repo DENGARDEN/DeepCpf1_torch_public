{
 "cells": [
  {
   "cell_type": "code",
   "execution_count": 1,
   "metadata": {},
   "outputs": [],
   "source": [
    "import pandas as pd\n",
    "import torch\n",
    "import argparse\n",
    "from torch.utils.data import DataLoader\n",
    "import xlsxwriter\n",
    "import numpy as np\n",
    "\n",
    "from collections import defaultdict\n",
    "import os\n",
    "\n",
    "from deepcpf1_network import SeqDeepCpf1Net\n",
    "from deepcpf1_network import SequenceDataset\n",
    "from deepcpf1_network import predict\n",
    "from deepcpf1_network import decoding"
   ]
  },
  {
   "cell_type": "code",
   "execution_count": 2,
   "metadata": {},
   "outputs": [],
   "source": [
    "class dotdict(dict):\n",
    "    \"\"\"dot.notation access to dictionary attributes\"\"\"\n",
    "    __getattr__ = dict.get\n",
    "    __setattr__ = dict.__setitem__\n",
    "    __delattr__ = dict.__delitem__"
   ]
  },
  {
   "cell_type": "code",
   "execution_count": 3,
   "metadata": {},
   "outputs": [
    {
     "name": "stdout",
     "output_type": "stream",
     "text": [
      "Listing weights for the models\n",
      "20 models are loaded.\n"
     ]
    }
   ],
   "source": [
    "args ={'test' : \"./data/test_gtoe_50.csv\",\n",
    "'output' : \"output.csv\",\n",
    "'model_path': \"./weights/T_50_corr_test\",\n",
    "'seed':1,\n",
    "'sequence_length' : 29,\n",
    "'kernel_size' :  5,\n",
    "'pool_size' :2,\n",
    "'no_cuda' : False,\n",
    "}\n",
    "\n",
    "args = dotdict(args)\n",
    "\n",
    "\n",
    "model_state_paths = []\n",
    "# Loading Model for Inference\n",
    "print(\"Listing weights for the models\")\n",
    "for file in os.listdir(args.model_path):\n",
    "    if file.endswith(\".pt\"):\n",
    "        model_state_paths.append(os.path.join(args.model_path, file))\n",
    "\n",
    "print(f\"{len(model_state_paths)} models are loaded.\")\n"
   ]
  },
  {
   "cell_type": "code",
   "execution_count": 4,
   "metadata": {},
   "outputs": [
    {
     "name": "stdout",
     "output_type": "stream",
     "text": [
      "Listing weights for the models\n",
      "20 models are loaded.\n"
     ]
    }
   ],
   "source": [
    "use_cuda = not args.no_cuda and torch.cuda.is_available()\n",
    "torch.manual_seed(args.seed)\n",
    "device = torch.device(\"cuda\" if use_cuda else \"cpu\")\n",
    "\n",
    "test_kwargs = {'batch_size': 300, 'shuffle': False}\n",
    "\n",
    "model_state_paths = []\n",
    "# Loading Model for Inference\n",
    "print(\"Listing weights for the models\")\n",
    "for file in os.listdir(args.model_path):\n",
    "    if file.endswith(\".pt\"):\n",
    "        model_state_paths.append(os.path.join(args.model_path, file))\n",
    "\n",
    "print(f\"{len(model_state_paths)} models are loaded.\")"
   ]
  },
  {
   "cell_type": "code",
   "execution_count": 5,
   "metadata": {},
   "outputs": [
    {
     "name": "stderr",
     "output_type": "stream",
     "text": [
      "/home/dengarden/Documents/Repositories/DeepCpf1_torch/Pytorch_implementation/deepcpf1_network.py:142: UserWarning: nn.init.xavier_uniform is now deprecated in favor of nn.init.xavier_uniform_.\n",
      "  torch.nn.init.xavier_uniform(self.Seq_deepCpf1_C1.weight)\n"
     ]
    },
    {
     "name": "stdout",
     "output_type": "stream",
     "text": [
      "    29 bp input sequence (2 bp + 5 bp TAM + 20 bp spacer + 2 bp)  \\\n",
      "0                        CGTTGATATCTCCGCCCTTGTGTTCTCAG             \n",
      "1                        CTTTGATAATAGAACCTATTTCTGCTTGA             \n",
      "2                        GATTGATGGTCGCCATAGTAGAACAATCC             \n",
      "3                        AATTGATAAGATATCGGGGTCCGACGTCG             \n",
      "4                        TGTTGATCTGTGGTAGCGGAAAGAAACTA             \n",
      "..                                                 ...             \n",
      "517                      CTTTGATCTGTGTATCCCCGTAGAGCGCA             \n",
      "518                      CTTTGATATGATGGCCTAAGGCCAGCGCC             \n",
      "519                      CGTTGATGCTAGGAAGAAACTGCATCAAT             \n",
      "520                      GTTTGATAGAAAGCCGTCAAGATCAACCA             \n",
      "521                      TCTTGATGACGTTAACGGTGAATTTCGAC             \n",
      "\n",
      "     Indel freqeuncy\\n(Background substracted, %)  CA  \n",
      "0                                        9.688581 NaN  \n",
      "1                                       11.940299 NaN  \n",
      "2                                       17.543860 NaN  \n",
      "3                                        5.054945 NaN  \n",
      "4                                        3.333333 NaN  \n",
      "..                                            ...  ..  \n",
      "517                                      2.064220 NaN  \n",
      "518                                      8.695652 NaN  \n",
      "519                                     18.656716 NaN  \n",
      "520                                     20.918367 NaN  \n",
      "521                                     10.679612 NaN  \n",
      "\n",
      "[522 rows x 3 columns]\n"
     ]
    }
   ],
   "source": [
    "seq_deep_cpf1 = SeqDeepCpf1Net(args).to(device)\n",
    "\n",
    "# Load test data\n",
    "testing_data = SequenceDataset(csv_file=args.test, args=args)\n",
    "test_dataloader = DataLoader(testing_data, **test_kwargs)"
   ]
  },
  {
   "cell_type": "code",
   "execution_count": 6,
   "metadata": {},
   "outputs": [],
   "source": [
    "predictions_by_models = defaultdict()"
   ]
  },
  {
   "cell_type": "markdown",
   "metadata": {},
   "source": [
    "predictions_by_models = {model_no : (sequence_vector, y_true, y_pred)}\n",
    "\n",
    "The tuple is composed of numpy arrays"
   ]
  },
  {
   "cell_type": "code",
   "execution_count": 7,
   "metadata": {},
   "outputs": [
    {
     "name": "stdout",
     "output_type": "stream",
     "text": [
      "Predicting on test data: 0/20-th model tested\n",
      "Predicting on test data: 1/20-th model tested\n",
      "Predicting on test data: 2/20-th model tested\n",
      "Predicting on test data: 3/20-th model tested\n",
      "Predicting on test data: 4/20-th model tested\n",
      "Predicting on test data: 5/20-th model tested\n",
      "Predicting on test data: 6/20-th model tested\n",
      "Predicting on test data: 7/20-th model tested\n",
      "Predicting on test data: 8/20-th model tested\n",
      "Predicting on test data: 9/20-th model tested\n",
      "Predicting on test data: 10/20-th model tested\n",
      "Predicting on test data: 11/20-th model tested\n",
      "Predicting on test data: 12/20-th model tested\n",
      "Predicting on test data: 13/20-th model tested\n",
      "Predicting on test data: 14/20-th model tested\n",
      "Predicting on test data: 15/20-th model tested\n",
      "Predicting on test data: 16/20-th model tested\n",
      "Predicting on test data: 17/20-th model tested\n",
      "Predicting on test data: 18/20-th model tested\n",
      "Predicting on test data: 19/20-th model tested\n"
     ]
    }
   ],
   "source": [
    "for idx, model_path in enumerate(model_state_paths):\n",
    "    seq_deep_cpf1.load_state_dict(torch.load(model_path))\n",
    "    \n",
    "    print(f\"Predicting on test data: {idx}/{len(model_state_paths)}-th model tested\")\n",
    "    sequence_vectors, y_true, y_pred = predict(seq_deep_cpf1,device,test_dataloader)\n",
    "    predictions_by_models[idx] = (sequence_vectors, y_true, y_pred)\n",
    "    "
   ]
  },
  {
   "cell_type": "markdown",
   "metadata": {},
   "source": [
    "Make an output dataframe"
   ]
  },
  {
   "cell_type": "code",
   "execution_count": 8,
   "metadata": {},
   "outputs": [
    {
     "name": "stdout",
     "output_type": "stream",
     "text": [
      "    29 bp input sequence (2 bp + 5 bp TAM + 20 bp spacer + 2 bp)  \\\n",
      "0                        CGTTGATATCTCCGCCCTTGTGTTCTCAG             \n",
      "1                        CTTTGATAATAGAACCTATTTCTGCTTGA             \n",
      "2                        GATTGATGGTCGCCATAGTAGAACAATCC             \n",
      "3                        AATTGATAAGATATCGGGGTCCGACGTCG             \n",
      "4                        TGTTGATCTGTGGTAGCGGAAAGAAACTA             \n",
      "..                                                 ...             \n",
      "517                      CTTTGATCTGTGTATCCCCGTAGAGCGCA             \n",
      "518                      CTTTGATATGATGGCCTAAGGCCAGCGCC             \n",
      "519                      CGTTGATGCTAGGAAGAAACTGCATCAAT             \n",
      "520                      GTTTGATAGAAAGCCGTCAAGATCAACCA             \n",
      "521                      TCTTGATGACGTTAACGGTGAATTTCGAC             \n",
      "\n",
      "     Indel freqeuncy\\n(Background substracted, %)  CA  \n",
      "0                                        9.688581 NaN  \n",
      "1                                       11.940299 NaN  \n",
      "2                                       17.543860 NaN  \n",
      "3                                        5.054945 NaN  \n",
      "4                                        3.333333 NaN  \n",
      "..                                            ...  ..  \n",
      "517                                      2.064220 NaN  \n",
      "518                                      8.695652 NaN  \n",
      "519                                     18.656716 NaN  \n",
      "520                                     20.918367 NaN  \n",
      "521                                     10.679612 NaN  \n",
      "\n",
      "[522 rows x 3 columns]\n"
     ]
    }
   ],
   "source": [
    "test_df = pd.read_csv(args.test)\n",
    "print(test_df)"
   ]
  },
  {
   "cell_type": "code",
   "execution_count": 9,
   "metadata": {},
   "outputs": [],
   "source": [
    "columns = list(test_df.columns)"
   ]
  },
  {
   "cell_type": "code",
   "execution_count": 13,
   "metadata": {},
   "outputs": [],
   "source": [
    "for model_no, tup in predictions_by_models.items():\n",
    "    sequence_vectors,y_true, y_pred = tup\n",
    "\n",
    "    # Fetching original sequence data\n",
    "\n",
    "    original_sequences = decoding(sequence_vectors, args.sequence_length)\n",
    "    data = {columns[0]:original_sequences, f\"{model_no}_true\": y_true.squeeze(axis=1), f\"{model_no}_pred\": y_pred.squeeze(axis=1)}  # Dimension handling\n",
    "\n",
    "    df = pd.DataFrame(data=data)\n",
    "\n",
    "    test_df=  pd.merge(test_df, df, on= columns[0], how= 'left')\n",
    "    \n",
    "\n",
    "\n",
    "test_df.to_excel(\"pred_result.xlsx\", engine ='xlsxwriter')"
   ]
  },
  {
   "cell_type": "code",
   "execution_count": null,
   "metadata": {},
   "outputs": [],
   "source": []
  }
 ],
 "metadata": {
  "kernelspec": {
   "display_name": "Python 3.9.13 ('DeepCpf1_torch')",
   "language": "python",
   "name": "python3"
  },
  "language_info": {
   "codemirror_mode": {
    "name": "ipython",
    "version": 3
   },
   "file_extension": ".py",
   "mimetype": "text/x-python",
   "name": "python",
   "nbconvert_exporter": "python",
   "pygments_lexer": "ipython3",
   "version": "3.9.13"
  },
  "orig_nbformat": 4,
  "vscode": {
   "interpreter": {
    "hash": "9220f823991d29960510a6c5262d41abfc06f72b1a13c7e3e7fc60ab65baed3f"
   }
  }
 },
 "nbformat": 4,
 "nbformat_minor": 2
}
